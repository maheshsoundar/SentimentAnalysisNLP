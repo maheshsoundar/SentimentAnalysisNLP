{
 "cells": [
  {
   "cell_type": "code",
   "execution_count": 1,
   "metadata": {
    "_cell_guid": "b1076dfc-b9ad-4769-8c92-a6c4dae69d19",
    "_uuid": "8f2839f25d086af736a60e9eeb907d3b93b6e0e5"
   },
   "outputs": [
    {
     "name": "stdout",
     "output_type": "stream",
     "text": [
      "(156060, 4)\n"
     ]
    },
    {
     "data": {
      "text/html": [
       "<div>\n",
       "<style scoped>\n",
       "    .dataframe tbody tr th:only-of-type {\n",
       "        vertical-align: middle;\n",
       "    }\n",
       "\n",
       "    .dataframe tbody tr th {\n",
       "        vertical-align: top;\n",
       "    }\n",
       "\n",
       "    .dataframe thead th {\n",
       "        text-align: right;\n",
       "    }\n",
       "</style>\n",
       "<table border=\"1\" class=\"dataframe\">\n",
       "  <thead>\n",
       "    <tr style=\"text-align: right;\">\n",
       "      <th></th>\n",
       "      <th>PhraseId</th>\n",
       "      <th>SentenceId</th>\n",
       "      <th>Phrase</th>\n",
       "      <th>Sentiment</th>\n",
       "    </tr>\n",
       "  </thead>\n",
       "  <tbody>\n",
       "    <tr>\n",
       "      <td>0</td>\n",
       "      <td>1</td>\n",
       "      <td>1</td>\n",
       "      <td>A series of escapades demonstrating the adage ...</td>\n",
       "      <td>1</td>\n",
       "    </tr>\n",
       "    <tr>\n",
       "      <td>1</td>\n",
       "      <td>2</td>\n",
       "      <td>1</td>\n",
       "      <td>A series of escapades demonstrating the adage ...</td>\n",
       "      <td>2</td>\n",
       "    </tr>\n",
       "    <tr>\n",
       "      <td>2</td>\n",
       "      <td>3</td>\n",
       "      <td>1</td>\n",
       "      <td>A series</td>\n",
       "      <td>2</td>\n",
       "    </tr>\n",
       "    <tr>\n",
       "      <td>3</td>\n",
       "      <td>4</td>\n",
       "      <td>1</td>\n",
       "      <td>A</td>\n",
       "      <td>2</td>\n",
       "    </tr>\n",
       "    <tr>\n",
       "      <td>4</td>\n",
       "      <td>5</td>\n",
       "      <td>1</td>\n",
       "      <td>series</td>\n",
       "      <td>2</td>\n",
       "    </tr>\n",
       "  </tbody>\n",
       "</table>\n",
       "</div>"
      ],
      "text/plain": [
       "   PhraseId  SentenceId                                             Phrase  \\\n",
       "0         1           1  A series of escapades demonstrating the adage ...   \n",
       "1         2           1  A series of escapades demonstrating the adage ...   \n",
       "2         3           1                                           A series   \n",
       "3         4           1                                                  A   \n",
       "4         5           1                                             series   \n",
       "\n",
       "   Sentiment  \n",
       "0          1  \n",
       "1          2  \n",
       "2          2  \n",
       "3          2  \n",
       "4          2  "
      ]
     },
     "execution_count": 1,
     "metadata": {},
     "output_type": "execute_result"
    }
   ],
   "source": [
    "import numpy as np \n",
    "import pandas as pd \n",
    "import nltk\n",
    "from nltk.tokenize import word_tokenize\n",
    "from nltk.stem import WordNetLemmatizer\n",
    "from nltk.corpus import stopwords\n",
    "from bs4 import BeautifulSoup\n",
    "import re\n",
    "import random\n",
    "from sklearn.model_selection import train_test_split\n",
    "from tqdm import tqdm\n",
    "import matplotlib.pyplot as plt\n",
    "import warnings\n",
    "warnings.filterwarnings(\"ignore\", category=UserWarning, module='bs4')\n",
    "lemmatizer = WordNetLemmatizer()\n",
    "\n",
    "#set random seed for the session\n",
    "random.seed(1)\n",
    "np.random.seed(1)\n",
    "\n",
    "#load train data\n",
    "train=pd.read_csv(\"train.tsv\",sep='\\t')\n",
    "print(train.shape)\n",
    "train.head()"
   ]
  },
  {
   "cell_type": "code",
   "execution_count": 2,
   "metadata": {
    "_uuid": "0ae954991eb0e6ba9e8e545fd55c589c286917ba"
   },
   "outputs": [
    {
     "name": "stdout",
     "output_type": "stream",
     "text": [
      "(66292, 3)\n"
     ]
    },
    {
     "data": {
      "text/html": [
       "<div>\n",
       "<style scoped>\n",
       "    .dataframe tbody tr th:only-of-type {\n",
       "        vertical-align: middle;\n",
       "    }\n",
       "\n",
       "    .dataframe tbody tr th {\n",
       "        vertical-align: top;\n",
       "    }\n",
       "\n",
       "    .dataframe thead th {\n",
       "        text-align: right;\n",
       "    }\n",
       "</style>\n",
       "<table border=\"1\" class=\"dataframe\">\n",
       "  <thead>\n",
       "    <tr style=\"text-align: right;\">\n",
       "      <th></th>\n",
       "      <th>PhraseId</th>\n",
       "      <th>SentenceId</th>\n",
       "      <th>Phrase</th>\n",
       "    </tr>\n",
       "  </thead>\n",
       "  <tbody>\n",
       "    <tr>\n",
       "      <td>0</td>\n",
       "      <td>156061</td>\n",
       "      <td>8545</td>\n",
       "      <td>An intermittently pleasing but mostly routine ...</td>\n",
       "    </tr>\n",
       "    <tr>\n",
       "      <td>1</td>\n",
       "      <td>156062</td>\n",
       "      <td>8545</td>\n",
       "      <td>An intermittently pleasing but mostly routine ...</td>\n",
       "    </tr>\n",
       "    <tr>\n",
       "      <td>2</td>\n",
       "      <td>156063</td>\n",
       "      <td>8545</td>\n",
       "      <td>An</td>\n",
       "    </tr>\n",
       "    <tr>\n",
       "      <td>3</td>\n",
       "      <td>156064</td>\n",
       "      <td>8545</td>\n",
       "      <td>intermittently pleasing but mostly routine effort</td>\n",
       "    </tr>\n",
       "    <tr>\n",
       "      <td>4</td>\n",
       "      <td>156065</td>\n",
       "      <td>8545</td>\n",
       "      <td>intermittently pleasing but mostly routine</td>\n",
       "    </tr>\n",
       "  </tbody>\n",
       "</table>\n",
       "</div>"
      ],
      "text/plain": [
       "   PhraseId  SentenceId                                             Phrase\n",
       "0    156061        8545  An intermittently pleasing but mostly routine ...\n",
       "1    156062        8545  An intermittently pleasing but mostly routine ...\n",
       "2    156063        8545                                                 An\n",
       "3    156064        8545  intermittently pleasing but mostly routine effort\n",
       "4    156065        8545         intermittently pleasing but mostly routine"
      ]
     },
     "execution_count": 2,
     "metadata": {},
     "output_type": "execute_result"
    }
   ],
   "source": [
    "#load test data\n",
    "test=pd.read_csv(\"test.tsv\",sep='\\t')\n",
    "print(test.shape)\n",
    "test.head()"
   ]
  },
  {
   "cell_type": "code",
   "execution_count": 3,
   "metadata": {
    "_uuid": "49c1720be3ab5ab7b9dbecf1ae303062b364dbe8"
   },
   "outputs": [
    {
     "name": "stderr",
     "output_type": "stream",
     "text": [
      "100%|█████████████████████████████████████████████████████████████████████████| 156060/156060 [08:28<00:00, 307.11it/s]\n",
      "100%|███████████████████████████████████████████████████████████████████████████| 66292/66292 [03:15<00:00, 338.24it/s]"
     ]
    },
    {
     "name": "stdout",
     "output_type": "stream",
     "text": [
      "156060\n",
      "66292\n"
     ]
    },
    {
     "name": "stderr",
     "output_type": "stream",
     "text": [
      "\n"
     ]
    }
   ],
   "source": [
    "#method to clean the reviews, tokenize, remove stop words and lemmatize them.\n",
    "def clean_sentences(df):\n",
    "    reviews = []\n",
    "\n",
    "    for sent in tqdm(df['Phrase']):\n",
    "        \n",
    "        #remove html content\n",
    "        review_text = BeautifulSoup(sent).get_text()\n",
    "        \n",
    "        #remove non-alphabetic characters\n",
    "        review_text = re.sub(\"[^a-zA-Z]\",\" \", review_text)\n",
    "    \n",
    "        #tokenize the sentences\n",
    "        words = word_tokenize(review_text.lower())\n",
    "    \n",
    "        #stop words removal\n",
    "        omit_words = set(stopwords.words('english'))\n",
    "        words = [x for x in words if x not in omit_words]\n",
    "        \n",
    "        #lemmatize each word to its lemma\n",
    "        lemma_words = [lemmatizer.lemmatize(i) for i in words]\n",
    "    \n",
    "        reviews.append(lemma_words)\n",
    "\n",
    "    return(reviews)\n",
    "\n",
    "#cleaned reviews for both train and test set retrieved\n",
    "train_sentences = clean_sentences(train)\n",
    "test_sentences = clean_sentences(test)\n",
    "print(len(train_sentences))\n",
    "print(len(test_sentences))"
   ]
  },
  {
   "cell_type": "code",
   "execution_count": 4,
   "metadata": {
    "_cell_guid": "79c7e3d0-c299-4dcb-8224-4455121ee9b0",
    "_uuid": "d629ff2d2480ee46fbb7e2d37f6b5fab8052498a"
   },
   "outputs": [],
   "source": [
    "#collect the dependent values\n",
    "target=train.Sentiment.values"
   ]
  },
  {
   "cell_type": "code",
   "execution_count": 5,
   "metadata": {
    "_uuid": "8e4a72a52b8266a92d120a70fe9b7188ebc538b1"
   },
   "outputs": [],
   "source": [
    "# Set values for various parameters of word2vec\n",
    "num_features = 250  # Word vector dimensionality. Determines the no of words each word in the vocabulary will\n",
    "#be associated with. Must be tuned.\n",
    "min_word_count = 50   # Minimum word count. Wods occuring below the threshold will be ignored\n",
    "num_workers = 1       # Number of threads to run in parallel\n",
    "context = 15          # Context window size to be considered for each word                                             \n",
    "downsampling = 1e-3   # Downsample setting for frequent words. To prevent more frequent words from dominating.\n"
   ]
  },
  {
   "cell_type": "code",
   "execution_count": 7,
   "metadata": {
    "_uuid": "8a902be667b9257e3df5935e02fd90d080ed2331"
   },
   "outputs": [],
   "source": [
    "from gensim.models import word2vec\n",
    "\n",
    "#Model Word2Vec\n",
    "model = word2vec.Word2Vec(train_sentences, workers=num_workers, \\\n",
    "            size=num_features, min_count = min_word_count, \\\n",
    "            window = context, sample = downsampling)\n",
    "\n",
    "# If the model is not going to be trained further, init_sims can be called \n",
    "# init_sims will make the model much more memory-efficient.\n",
    "model.init_sims(replace=True)"
   ]
  },
  {
   "cell_type": "code",
   "execution_count": 8,
   "metadata": {
    "_kg_hide-input": false,
    "_kg_hide-output": false,
    "_uuid": "5c72422dc81fadb64d71a0bcbe63aa06bb8869d4"
   },
   "outputs": [
    {
     "name": "stdout",
     "output_type": "stream",
     "text": [
      "length\n"
     ]
    },
    {
     "name": "stderr",
     "output_type": "stream",
     "text": [
      "C:\\Users\\Mahesh-PC\\Anaconda3\\lib\\site-packages\\gensim\\models\\keyedvectors.py:877: FutureWarning: arrays to stack must be passed as a \"sequence\" type such as list or tuple. Support for non-sequence iterables such as generators is deprecated as of NumPy 1.16 and will raise an error in the future.\n",
      "  vectors = vstack(self.word_vec(word, use_norm=True) for word in used_words).astype(REAL)\n"
     ]
    }
   ],
   "source": [
    "#the word2vec builds associations for each word with other words in the vocabulary of the problem.\n",
    "#the model can be used to test differnt word associations. similarities, etc. to know how good the model\n",
    "#or the vocabulary is. In the example here, 4 words are given and the model chosses the dissimilar word amonsgt them.\n",
    "#here it chooses length. Good Bad & Nice are adjectives to describe a movie, 'Length' is something.\n",
    "#Hence the model has built this association.\n",
    "print(model.wv.doesnt_match(\"length good bad nice\".split()))"
   ]
  },
  {
   "cell_type": "code",
   "execution_count": 9,
   "metadata": {
    "_uuid": "c8920fb20feb2938df92bbc045b4f04176d1cf59"
   },
   "outputs": [
    {
     "name": "stdout",
     "output_type": "stream",
     "text": [
      "red\n"
     ]
    }
   ],
   "source": [
    "# test the same condition with totally differnt word. The output is correctly 'red'.\n",
    "print(model.wv.doesnt_match(\"fun good bad red\".split()))"
   ]
  },
  {
   "cell_type": "code",
   "execution_count": 10,
   "metadata": {
    "_uuid": "d8b0abdcf8cbe479edf091dfaf804de96b9e648a"
   },
   "outputs": [
    {
     "name": "stdout",
     "output_type": "stream",
     "text": [
      "film movie n\n"
     ]
    }
   ],
   "source": [
    "#print the three most common words\n",
    "print(model.wv.index2word[0], model.wv.index2word[1], model.wv.index2word[2])"
   ]
  },
  {
   "cell_type": "code",
   "execution_count": 11,
   "metadata": {
    "_uuid": "4683c09c02884b39b8208dfe1c1ce85c81f89335"
   },
   "outputs": [
    {
     "name": "stdout",
     "output_type": "stream",
     "text": [
      "crack snipe pandering\n"
     ]
    }
   ],
   "source": [
    "#print the three least common words\n",
    "total_words = len(model.wv.vocab)\n",
    "print(model.wv.index2word[total_words - 1], model.wv.index2word[total_words - 2], model.wv.index2word[total_words - 3])"
   ]
  },
  {
   "cell_type": "code",
   "execution_count": 12,
   "metadata": {
    "_uuid": "26b0b56855128d590f932695419d20fd29bc05b5",
    "scrolled": true
   },
   "outputs": [
    {
     "name": "stdout",
     "output_type": "stream",
     "text": [
      "[('role', 0.8104479908943176), ('lead', 0.7973312735557556), ('career', 0.7386322617530823), ('academy', 0.7338787317276001), ('niro', 0.7332068681716919), ('award', 0.7321874499320984), ('talented', 0.7235428094863892), ('de', 0.7228742241859436), ('talent', 0.7195686101913452), ('appear', 0.7186208367347717)]\n"
     ]
    }
   ],
   "source": [
    "#print the most similar words associated with 'actor'. The word 'role' and 'lead' appears at the top.\n",
    "print(model.wv.most_similar(\"actor\"))"
   ]
  },
  {
   "cell_type": "code",
   "execution_count": 13,
   "metadata": {
    "_uuid": "6455143ad8c9d04220ead0db36c602c4ff4075cc"
   },
   "outputs": [
    {
     "name": "stderr",
     "output_type": "stream",
     "text": [
      "  0%|                                                                                       | 0/156060 [00:00<?, ?it/s]C:\\Users\\Mahesh-PC\\Anaconda3\\lib\\site-packages\\ipykernel_launcher.py:17: DeprecationWarning: Call to deprecated `__getitem__` (Method will be removed in 4.0.0, use self.wv.__getitem__() instead).\n",
      "100%|████████████████████████████████████████████████████████████████████████| 156060/156060 [01:29<00:00, 1741.04it/s]\n",
      "100%|██████████████████████████████████████████████████████████████████████████| 66292/66292 [00:38<00:00, 1720.46it/s]\n"
     ]
    }
   ],
   "source": [
    "def createFeatureVector(words, model, num_features):\n",
    "    #initialize a 1D array with length as num of features of word2vec model chosen by us. \n",
    "    #Here it is 250.\n",
    "    featVector = np.zeros((num_features,),dtype=\"float32\")\n",
    "    \n",
    "    nWords = 0\n",
    "    \n",
    "    # Index2word is a list that contains the names of the words in \n",
    "    # the model's vocabulary. Convert it to a set, as set is faster\n",
    "    index2word_set = set(model.wv.index2word)\n",
    "    \n",
    "    # Loop over each word and add it to the feature vector to get the total sum of feature vectors of the\n",
    "    #entire review\n",
    "    for word in words:\n",
    "        if word in index2word_set: \n",
    "            nWords = nWords + 1.\n",
    "            featVector = np.add(featVector,model[word])\n",
    "            \n",
    "    # Divide the result by the number of words to get the average of the feature vectors of \n",
    "    #all words in the review\n",
    "    if(nWords != 0):\n",
    "        featVector = np.divide(featVector,nWords)\n",
    "    return featVector\n",
    "\n",
    "#calculates the average of the feature vectors for each review using the word2vec values assigned for \n",
    "#each word\n",
    "def avgFeatureVectors(sentences, model, num_features):\n",
    "    overallFeatureVectors = []\n",
    "    for sentence in tqdm(sentences):\n",
    "        overallFeatureVectors.append(createFeatureVector(sentence, model, num_features)) \n",
    "    return overallFeatureVectors\n",
    "\n",
    "train_vect = avgFeatureVectors( train_sentences, model, num_features )\n",
    "test_vect = avgFeatureVectors( test_sentences, model, num_features )"
   ]
  },
  {
   "cell_type": "code",
   "execution_count": 14,
   "metadata": {
    "_uuid": "860b3ebb1714acc7f02e2c581b493f76b4b83d7a"
   },
   "outputs": [],
   "source": [
    "#split into train and validation sets.\n",
    "X_train,X_val,y_train,y_val=train_test_split(train_vect,target,test_size=0.2,stratify=target)"
   ]
  },
  {
   "cell_type": "code",
   "execution_count": 15,
   "metadata": {
    "_uuid": "6a10ce482cf7762779733852555f01fd35d48315"
   },
   "outputs": [
    {
     "name": "stderr",
     "output_type": "stream",
     "text": [
      "[Parallel(n_jobs=-1)]: Using backend ThreadingBackend with 2 concurrent workers.\n",
      "[Parallel(n_jobs=-1)]: Done  46 tasks      | elapsed:  3.3min\n",
      "[Parallel(n_jobs=-1)]: Done 196 tasks      | elapsed: 11.1min\n",
      "[Parallel(n_jobs=-1)]: Done 446 tasks      | elapsed: 29.7min\n",
      "[Parallel(n_jobs=-1)]: Done 500 out of 500 | elapsed: 34.8min finished\n"
     ]
    },
    {
     "data": {
      "text/plain": [
       "RandomForestClassifier(bootstrap=True, class_weight=None, criterion='gini',\n",
       "                       max_depth=None, max_features='auto', max_leaf_nodes=None,\n",
       "                       min_impurity_decrease=0.0, min_impurity_split=None,\n",
       "                       min_samples_leaf=1, min_samples_split=2,\n",
       "                       min_weight_fraction_leaf=0.0, n_estimators=500,\n",
       "                       n_jobs=-1, oob_score=True, random_state=1, verbose=1,\n",
       "                       warm_start=False)"
      ]
     },
     "execution_count": 15,
     "metadata": {},
     "output_type": "execute_result"
    }
   ],
   "source": [
    "from sklearn.ensemble import RandomForestClassifier\n",
    "\n",
    "#Model RF\n",
    "model_rf = RandomForestClassifier(random_state=1, n_estimators=500, verbose=1, n_jobs=-1, oob_score=True)\n",
    "model_rf.fit(X_train, y_train)"
   ]
  },
  {
   "cell_type": "code",
   "execution_count": 16,
   "metadata": {
    "_uuid": "79aef9e65235fefd20cbcb1483d95bdec24dfa74"
   },
   "outputs": [
    {
     "name": "stderr",
     "output_type": "stream",
     "text": [
      "[Parallel(n_jobs=2)]: Using backend ThreadingBackend with 2 concurrent workers.\n",
      "[Parallel(n_jobs=2)]: Done  46 tasks      | elapsed:    1.2s\n",
      "[Parallel(n_jobs=2)]: Done 196 tasks      | elapsed:    5.2s\n",
      "[Parallel(n_jobs=2)]: Done 446 tasks      | elapsed:   13.0s\n"
     ]
    },
    {
     "name": "stdout",
     "output_type": "stream",
     "text": [
      "0.6220363962578496\n"
     ]
    },
    {
     "name": "stderr",
     "output_type": "stream",
     "text": [
      "[Parallel(n_jobs=2)]: Done 500 out of 500 | elapsed:   14.6s finished\n"
     ]
    }
   ],
   "source": [
    "from sklearn.metrics import accuracy_score\n",
    "\n",
    "#the score for the trained model. Here it is around 62%. It can be further increased, by fine-tuning\n",
    "#word2vec model as well as rf model. The no of estimators for example can be increased to boost the accuracy.\n",
    "#The score can definitely be improved further by fine tuning and possibly grid search.\n",
    "result = model_rf.predict( X_val )\n",
    "score = accuracy_score(y_val,result)\n",
    "print(score)"
   ]
  },
  {
   "cell_type": "code",
   "execution_count": 17,
   "metadata": {
    "_uuid": "699191fa46ba588a634560d505c6e92fc8c59f6e"
   },
   "outputs": [
    {
     "data": {
      "image/png": "[encoded data removed]",
      "text/plain": [
       "<Figure size 432x288 with 2 Axes>"
      ]
     },
     "metadata": {
      "needs_background": "light"
     },
     "output_type": "display_data"
    },
    {
     "name": "stdout",
     "output_type": "stream",
     "text": [
      "[[  404   587   387    33     3]\n",
      " [  361  2007  2851   226    10]\n",
      " [   91  1043 13469  1255    58]\n",
      " [   11   152  2968  2954   501]\n",
      " [    4    21   368   867   581]]\n"
     ]
    }
   ],
   "source": [
    "from sklearn.metrics import confusion_matrix\n",
    "\n",
    "#visualizing the confusion matrix of the results. As expected the category of neutral ('2') is the best\n",
    "# performing as more no of records in the dataset belong to this class. Other classes are little\n",
    "#under-represented and hence not learnt well by the model. Over-sampling, Under-sampling or combination \n",
    "#of both can mitigate this problem to a degree. Also SMOTE can be tried to create synthetic samples for\n",
    "#under-represented classes to balance the equation little bit. Class weights is also another option\n",
    "# that can be used to tell the model to pay more attention to certain classes while training.\n",
    "\n",
    "labels = [0,1,2,3,4]\n",
    "conf = confusion_matrix(y_val,result,labels)\n",
    "fig = plt.figure()\n",
    "ax = fig.add_subplot(111)\n",
    "cax = ax.matshow(conf)\n",
    "plt.title('Confusion matrix of the classifier')\n",
    "fig.colorbar(cax)\n",
    "ax.set_xticklabels([''] + labels)\n",
    "ax.set_yticklabels([''] + labels)\n",
    "plt.xlabel('Predicted')\n",
    "plt.ylabel('True')\n",
    "plt.show()\n",
    "print(conf)\n",
    "\n",
    "#here 0 - negative, 1- somewhat negative, 2- neutral, 3- somewhat positive, 4- positive"
   ]
  }
 ],
 "metadata": {
  "kernelspec": {
   "display_name": "Python 3",
   "language": "python",
   "name": "python3"
  },
  "language_info": {
   "codemirror_mode": {
    "name": "ipython",
    "version": 3
   },
   "file_extension": ".py",
   "mimetype": "text/x-python",
   "name": "python",
   "nbconvert_exporter": "python",
   "pygments_lexer": "ipython3",
   "version": "3.7.4"
  }
 },
 "nbformat": 4,
 "nbformat_minor": 1
}
